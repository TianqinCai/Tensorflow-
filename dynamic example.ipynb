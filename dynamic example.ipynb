{
 "cells": [
  {
   "cell_type": "markdown",
   "metadata": {},
   "source": [
    "# 对np.newaxis 的说明"
   ]
  },
  {
   "cell_type": "code",
   "execution_count": 7,
   "metadata": {},
   "outputs": [
    {
     "name": "stdout",
     "output_type": "stream",
     "text": [
      "a的size：  (300,)\n",
      "b的size:  (300, 1)\n",
      "c的size:  (1, 300)\n"
     ]
    }
   ],
   "source": [
    "#对np.newaxis 的说明\n",
    "#np.newaxis的作用就是在原来的数组上增加一个维度。\n",
    "import numpy as np\n",
    "a = np.linspace(-1,1,300)\n",
    "print(\"a的size： \",a.shape)\n",
    "b = np.linspace(-1,1,300)[:,np.newaxis]\n",
    "print(\"b的size: \",b.shape)\n",
    "c = np.linspace(-1,1,300)[np.newaxis,:]\n",
    "print(\"c的size: \", c.shape)"
   ]
  },
  {
   "cell_type": "markdown",
   "metadata": {},
   "source": [
    "# 动态实例"
   ]
  },
  {
   "cell_type": "code",
   "execution_count": 1,
   "metadata": {},
   "outputs": [],
   "source": [
    "import tensorflow as tf\n",
    "\n",
    "#默认为没有激活函数（activation function = None)\n",
    "def add_layer(inputs, in_size, out_size, activation_function=None):\n",
    "    Weights = tf.Variable(tf.random_normal([in_size, out_size]))                # 矩阵用大写变量开头, Weights size = insize*outsize\n",
    "    print(Weights.shape)\n",
    "    biases = tf.Variable(tf.zeros([1, out_size])+0.1)\n",
    "    Wx_plus_b = tf.matmul(inputs,Weights) + biases                   #矩阵相乘+bias\n",
    "    if activation_function is None:\n",
    "        outputs = Wx_plus_b\n",
    "    else:\n",
    "        outputs = activation_function(Wx_plus_b)\n",
    "    return outputs"
   ]
  },
  {
   "cell_type": "code",
   "execution_count": 11,
   "metadata": {},
   "outputs": [
    {
     "name": "stdout",
     "output_type": "stream",
     "text": [
      "Using matplotlib backend: Qt5Agg\n",
      "(1, 10)\n",
      "(10, 1)\n",
      "WARNING:tensorflow:From C:\\Users\\CaiTi\\Anaconda3\\lib\\site-packages\\tensorflow\\python\\ops\\math_ops.py:3066: to_int32 (from tensorflow.python.ops.math_ops) is deprecated and will be removed in a future version.\n",
      "Instructions for updating:\n",
      "Use tf.cast instead.\n",
      "WARNING:tensorflow:From C:\\Users\\CaiTi\\Anaconda3\\lib\\site-packages\\tensorflow\\python\\util\\tf_should_use.py:193: initialize_all_variables (from tensorflow.python.ops.variables) is deprecated and will be removed after 2017-03-02.\n",
      "Instructions for updating:\n",
      "Use `tf.global_variables_initializer` instead.\n"
     ]
    }
   ],
   "source": [
    "import numpy as np\n",
    "import matplotlib.pyplot as plt\n",
    "%matplotlib\n",
    "# 构造一个一元二次函数，加一点noise，y=x^2\n",
    "\n",
    "# x: [-1,1]的区间内，有300个单位，【：np.newaxis】是加了维度，变成300行，1列的矩阵\n",
    "x_data = np.linspace(-1,1,300)[:,np.newaxis]  \n",
    "\n",
    "# 噪声用正态分布，mean = 0, std = 0.5, 格式是x_data.shape\n",
    "noise = np.random.normal(0, 0.05, x_data.shape)\n",
    "\n",
    "#这里y=x^2-0.5， np.square()是矩阵里的数字乘方\n",
    "y_data = np.square(x_data) - 0.5 + noise\n",
    "\n",
    "xs = tf.placeholder(tf.float32,[None, 1])\n",
    "ys = tf.placeholder(tf.float32,[None, 1])\n",
    "\n",
    "# 构造完要学习的函数，下面建立一个单隐藏层的神经网络\n",
    "# 隐藏层l1: 用我们上一步定义好的函数，激活函数用tensorflow里自带的relu\n",
    "l1 = add_layer(xs, 1, 10, activation_function = tf.nn.relu)\n",
    "\n",
    "#输出层prediction\n",
    "prediction = add_layer(l1, 10, 1, activation_function = None)\n",
    "\n",
    "# 用\n",
    "loss = tf.reduce_mean(tf.reduce_sum(tf.square(ys - prediction), \n",
    "                    reduction_indices=[1]))\n",
    "\n",
    "train_step = tf.train.GradientDescentOptimizer(0.1).minimize(loss)\n",
    "\n",
    "init = tf.initialize_all_variables()\n",
    "sess = tf.Session()\n",
    "sess.run(init)\n",
    "\n",
    "#先生成一个图片框\n",
    "fig = plt.figure()\n",
    "ax = fig.add_subplot(1,1,1)\n",
    "#以散点的形式绘制在图上\n",
    "ax.scatter(x_data, y_data)\n",
    "plt.ion()\n",
    "plt.show()\n",
    "\n",
    "for i in range(1000):\n",
    "    sess.run(train_step, feed_dict = {xs: x_data, ys:y_data})\n",
    "    if i % 50 == 0:\n",
    "        #print(sess.run(loss, feed_dict = {xs: x_data, ys: y_data}))\n",
    "        try:\n",
    "            ax.lines.remove(lines[0])\n",
    "        except Exception:\n",
    "            pass\n",
    "        prediction_value = sess.run(prediction, feed_dict={xs: x_data})\n",
    "        #用曲线的形式\n",
    "        lines = ax.plot(x_data, prediction_value, 'r-', lw=5)\n",
    "        plt.pause(0.1)"
   ]
  }
 ],
 "metadata": {
  "kernelspec": {
   "display_name": "Python 3",
   "language": "python",
   "name": "python3"
  },
  "language_info": {
   "codemirror_mode": {
    "name": "ipython",
    "version": 3
   },
   "file_extension": ".py",
   "mimetype": "text/x-python",
   "name": "python",
   "nbconvert_exporter": "python",
   "pygments_lexer": "ipython3",
   "version": "3.7.1"
  }
 },
 "nbformat": 4,
 "nbformat_minor": 2
}
