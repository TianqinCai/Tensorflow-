{
 "cells": [
  {
   "cell_type": "markdown",
   "metadata": {},
   "source": [
    "# 基础练习，学习 y = 0.1 * x + 3"
   ]
  },
  {
   "cell_type": "code",
   "execution_count": 4,
   "metadata": {},
   "outputs": [
    {
     "name": "stdout",
     "output_type": "stream",
     "text": [
      "WARNING:tensorflow:From C:\\Users\\CaiTi\\Anaconda3\\lib\\site-packages\\tensorflow\\python\\util\\tf_should_use.py:193: initialize_all_variables (from tensorflow.python.ops.variables) is deprecated and will be removed after 2017-03-02.\n",
      "Instructions for updating:\n",
      "Use `tf.global_variables_initializer` instead.\n",
      "0 [-0.45203233] [0.817574]\n",
      "20 [-0.02940226] [0.3687542]\n",
      "40 [0.07403714] [0.31379464]\n",
      "60 [0.09479091] [0.30276772]\n",
      "80 [0.09895486] [0.30055532]\n",
      "100 [0.09979031] [0.3001114]\n",
      "120 [0.09995793] [0.30002236]\n",
      "140 [0.09999157] [0.30000448]\n",
      "160 [0.0999983] [0.3000009]\n",
      "180 [0.09999966] [0.3000002]\n",
      "200 [0.09999991] [0.30000007]\n"
     ]
    }
   ],
   "source": [
    "# 基础练习，学习 y = 0.1 * x + 3\n",
    "import tensorflow as tf\n",
    "import numpy as np\n",
    "\n",
    "#create data\n",
    "#一次产生一个随机数,学习 y = 0.1 * x + 3\n",
    "x_data = np.random.rand(100).astype(np.float32)\n",
    "y_data = x_data*0.1 + 0.3\n",
    "\n",
    "### create tensorflow structure start\n",
    "#tensorflow 里定义Variable的方式：以便用init调取\n",
    "Weights = tf.Variable(tf.random_uniform([1],-1.0,1.0))\n",
    "biases = tf.Variable(tf.zeros([1]))\n",
    "\n",
    "y = Weights*x_data + biases\n",
    "\n",
    "loss = tf.reduce_mean(tf.square(y-y_data))\n",
    "optimizer = tf.train.GradientDescentOptimizer(0.5)       # 0.5是学习效率\n",
    "train = optimizer.minimize(loss)\n",
    "\n",
    "init = tf.initialize_all_variables()\n",
    "### create tensorflow structure end\n",
    "\n",
    "sess = tf.Session()\n",
    "#sess.run()每次都要调用，相当于告诉tensorflow去执行括号里的内容指向的内存，之前的程序直到被sess.run()调用到时才会执行\n",
    "sess.run(init)\n",
    "\n",
    "#range 201 以包含200\n",
    "for step in range(201):\n",
    "    sess.run(train)\n",
    "    if step % 20 == 0:\n",
    "        print(step, sess.run(Weights), sess.run(biases))"
   ]
  },
  {
   "cell_type": "markdown",
   "metadata": {},
   "source": [
    "# 练习session"
   ]
  },
  {
   "cell_type": "code",
   "execution_count": 5,
   "metadata": {},
   "outputs": [
    {
     "name": "stdout",
     "output_type": "stream",
     "text": [
      "[[12]]\n",
      "[[12]]\n"
     ]
    }
   ],
   "source": [
    "# 练习session\n",
    "\n",
    "matrix1 = tf.constant([[3,3]]) #一行两列【[3，3]】\n",
    "matrix2 = tf.constant([[2],\n",
    "                      [2]]) #两行一列【【2】，【2】】\n",
    "product = tf.matmul(matrix1, matrix2)        #类似np.dot(m1,m2)\n",
    "\n",
    "#method 1\n",
    "sess = tf.Session()\n",
    "result = sess.run(product)\n",
    "print(result)\n",
    "sess.close()\n",
    "\n",
    "#method 2\n",
    "with tf.Session() as sess:\n",
    "    #用with可以自动close\n",
    "    result2 = sess.run(product)\n",
    "    print(result2)\n",
    "    "
   ]
  },
  {
   "cell_type": "markdown",
   "metadata": {},
   "source": [
    "# 练习 placeholder"
   ]
  },
  {
   "cell_type": "code",
   "execution_count": 6,
   "metadata": {},
   "outputs": [
    {
     "name": "stdout",
     "output_type": "stream",
     "text": [
      "[14.]\n"
     ]
    }
   ],
   "source": [
    "# 练习 placeholder\n",
    "#对placeholder给定type，或结构\n",
    "input1 = tf.placeholder(tf.float32)\n",
    "input2 = tf.placeholder(tf.float32)\n",
    "#注意tf.mul改成tf.multiply了\n",
    "output = tf.multiply(input1, input2)\n",
    "\n",
    "with tf.Session() as sess:\n",
    "    #调用placeholder时用feed_dict形式以字典形式给入placeholder的值\n",
    "    print(sess.run(output, feed_dict={input1:[7.], input2:[2.]}))"
   ]
  },
  {
   "cell_type": "markdown",
   "metadata": {},
   "source": [
    "# 练习保存和重载神经网络"
   ]
  },
  {
   "cell_type": "code",
   "execution_count": null,
   "metadata": {},
   "outputs": [],
   "source": [
    "# 练习保存和重载神经网络\n",
    "import tensorflow as tf\n",
    "\n",
    "## Save to file\n",
    "# 注意定义dtype,否则默认为整型，重载时会出错\n",
    "W = tf.Variable([[1,2,3],[3,4,5]], dtype = tf.float32, name = 'weights')\n",
    "b = tf.Variable([[1,2,3]], dtype = tf.float32, name = 'biases')\n",
    "\n",
    "init = tf.initialize_all_variables()\n",
    "\n",
    "saver = tf.train.Saver()\n",
    "\n",
    "with tf.Session() as sess:\n",
    "    sess.run(init)\n",
    "    #默认保存为ckpt格式文件，详见官网\n",
    "    save_path = saver.save(sess, \"my_net/save_net.ckpt\")\n",
    "    print(\"Save to path: \", save_path)\n",
    "\n"
   ]
  },
  {
   "cell_type": "code",
   "execution_count": 3,
   "metadata": {},
   "outputs": [
    {
     "name": "stdout",
     "output_type": "stream",
     "text": [
      "INFO:tensorflow:Restoring parameters from my_net/save_net.ckpt\n",
      "weight:  [[1. 2. 3.]\n",
      " [3. 4. 5.]]\n",
      "biases:  [[1. 2. 3.]]\n"
     ]
    }
   ],
   "source": [
    "# 练习提取出刚保存的神经网络\n",
    "# 注意重载时要重新定义神经网络的形状和shape，要和保存的神经网络match\n",
    "# 需要重启再restore，或把restore模块写在另一个文件里\n",
    "# restore variables\n",
    "import tensorflow as tf\n",
    "import numpy as np\n",
    "\n",
    "W1 = tf.Variable(np.arange(6).reshape((2,3)),dtype = tf.float32, name = \"weights\")\n",
    "b1 = tf.Variable(np.arange(3).reshape((1,3)), dtype = tf.float32, name = \"biases\")\n",
    "\n",
    "# not need to init \n",
    "saver = tf.train.Saver()\n",
    "with tf.Session() as sess:\n",
    "    saver.restore(sess,\"my_net/save_net.ckpt\")\n",
    "    print(\"weight: \", sess.run(W1))\n",
    "    print(\"biases: \", sess.run(b1))"
   ]
  }
 ],
 "metadata": {
  "kernelspec": {
   "display_name": "Python 3",
   "language": "python",
   "name": "python3"
  },
  "language_info": {
   "codemirror_mode": {
    "name": "ipython",
    "version": 3
   },
   "file_extension": ".py",
   "mimetype": "text/x-python",
   "name": "python",
   "nbconvert_exporter": "python",
   "pygments_lexer": "ipython3",
   "version": "3.7.1"
  }
 },
 "nbformat": 4,
 "nbformat_minor": 2
}
